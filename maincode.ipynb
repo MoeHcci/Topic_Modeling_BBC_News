{
 "cells": [
  {
   "attachments": {},
   "cell_type": "markdown",
   "metadata": {},
   "source": [
    "## Introduction \n",
    "#### This document contains the following: \n",
    "- Importing data from the cleaned dataset from the \"text_preprocessing.ipynb\" file. The file is from /Data/bbc_news_post_eda.csv \n",
    "- The imported data is a cleaned version of the orginal dataset of bbc_news.csv \n",
    "- There are two features we are interested in the \"description_text\" feature, which is the text from the BBC news website\n",
    "- This document will begin by splitting the data into a training set and a test set \n",
    "- Perfrom vectorization via TFIDF, to convert the raw data into a numerical form, thus we can apply the ML analysis on. Also, TFIDF is chosen, because it perfroms better during Sentiment Analysis\n",
    "- Once vectrization is applied we can create the ML model for the NLP problem. Two  models are created:  Latent Dirichlet Allocation (LDA) and Non-Negative Matrix Factorization (NMF)"
   ]
  },
  {
   "attachments": {},
   "cell_type": "markdown",
   "metadata": {},
   "source": [
    "------------------"
   ]
  },
  {
   "attachments": {},
   "cell_type": "markdown",
   "metadata": {},
   "source": [
    "### Import the libraries"
   ]
  },
  {
   "cell_type": "code",
   "execution_count": 12,
   "metadata": {},
   "outputs": [],
   "source": [
    "#import the required libearies \n",
    "import numpy as np\n",
    "import pandas as pd \n",
    "import matplotlib.pyplot as plt \n",
    "import re\n"
   ]
  },
  {
   "attachments": {},
   "cell_type": "markdown",
   "metadata": {},
   "source": [
    "### Import the data"
   ]
  },
  {
   "cell_type": "code",
   "execution_count": 15,
   "metadata": {},
   "outputs": [
    {
     "data": {
      "text/html": [
       "<div>\n",
       "<style scoped>\n",
       "    .dataframe tbody tr th:only-of-type {\n",
       "        vertical-align: middle;\n",
       "    }\n",
       "\n",
       "    .dataframe tbody tr th {\n",
       "        vertical-align: top;\n",
       "    }\n",
       "\n",
       "    .dataframe thead th {\n",
       "        text-align: right;\n",
       "    }\n",
       "</style>\n",
       "<table border=\"1\" class=\"dataframe\">\n",
       "  <thead>\n",
       "    <tr style=\"text-align: right;\">\n",
       "      <th></th>\n",
       "      <th>Unnamed: 0</th>\n",
       "      <th>title</th>\n",
       "      <th>description</th>\n",
       "      <th>description_text</th>\n",
       "    </tr>\n",
       "  </thead>\n",
       "  <tbody>\n",
       "    <tr>\n",
       "      <th>0</th>\n",
       "      <td>0</td>\n",
       "      <td>Ukraine: Angry Zelensky vows to punish Russian...</td>\n",
       "      <td>The Ukrainian president says the country will ...</td>\n",
       "      <td>The Ukrainian president say country forgive fo...</td>\n",
       "    </tr>\n",
       "    <tr>\n",
       "      <th>1</th>\n",
       "      <td>1</td>\n",
       "      <td>War in Ukraine: Taking cover in a town under a...</td>\n",
       "      <td>Jeremy Bowen was on the frontline in Irpin, as...</td>\n",
       "      <td>Jeremy Bowen frontline Irpin resident came Rus...</td>\n",
       "    </tr>\n",
       "    <tr>\n",
       "      <th>2</th>\n",
       "      <td>2</td>\n",
       "      <td>Ukraine war 'catastrophic for global food'</td>\n",
       "      <td>One of the world's biggest fertiliser firms sa...</td>\n",
       "      <td>One world biggest fertiliser firm say conflict...</td>\n",
       "    </tr>\n",
       "    <tr>\n",
       "      <th>3</th>\n",
       "      <td>3</td>\n",
       "      <td>Manchester Arena bombing: Saffie Roussos's par...</td>\n",
       "      <td>The parents of the Manchester Arena bombing's ...</td>\n",
       "      <td>The parent Manchester Arena bombing youngest v...</td>\n",
       "    </tr>\n",
       "    <tr>\n",
       "      <th>4</th>\n",
       "      <td>4</td>\n",
       "      <td>Ukraine conflict: Oil price soars to highest l...</td>\n",
       "      <td>Consumers are feeling the impact of higher ene...</td>\n",
       "      <td>Consumers feeling impact higher energy cost fu...</td>\n",
       "    </tr>\n",
       "  </tbody>\n",
       "</table>\n",
       "</div>"
      ],
      "text/plain": [
       "   Unnamed: 0                                              title  \\\n",
       "0           0  Ukraine: Angry Zelensky vows to punish Russian...   \n",
       "1           1  War in Ukraine: Taking cover in a town under a...   \n",
       "2           2         Ukraine war 'catastrophic for global food'   \n",
       "3           3  Manchester Arena bombing: Saffie Roussos's par...   \n",
       "4           4  Ukraine conflict: Oil price soars to highest l...   \n",
       "\n",
       "                                         description  \\\n",
       "0  The Ukrainian president says the country will ...   \n",
       "1  Jeremy Bowen was on the frontline in Irpin, as...   \n",
       "2  One of the world's biggest fertiliser firms sa...   \n",
       "3  The parents of the Manchester Arena bombing's ...   \n",
       "4  Consumers are feeling the impact of higher ene...   \n",
       "\n",
       "                                    description_text  \n",
       "0  The Ukrainian president say country forgive fo...  \n",
       "1  Jeremy Bowen frontline Irpin resident came Rus...  \n",
       "2  One world biggest fertiliser firm say conflict...  \n",
       "3  The parent Manchester Arena bombing youngest v...  \n",
       "4  Consumers feeling impact higher energy cost fu...  "
      ]
     },
     "execution_count": 15,
     "metadata": {},
     "output_type": "execute_result"
    }
   ],
   "source": [
    "#Import the data \n",
    "df = pd.read_csv(\"Data\\\\bbc_news_post_eda.csv\")\n",
    "df.head()"
   ]
  },
  {
   "attachments": {},
   "cell_type": "markdown",
   "metadata": {},
   "source": [
    "----------"
   ]
  },
  {
   "attachments": {},
   "cell_type": "markdown",
   "metadata": {},
   "source": [
    "## Applay LDA"
   ]
  },
  {
   "cell_type": "code",
   "execution_count": 75,
   "metadata": {},
   "outputs": [
    {
     "data": {
      "text/html": [
       "<div>\n",
       "<style scoped>\n",
       "    .dataframe tbody tr th:only-of-type {\n",
       "        vertical-align: middle;\n",
       "    }\n",
       "\n",
       "    .dataframe tbody tr th {\n",
       "        vertical-align: top;\n",
       "    }\n",
       "\n",
       "    .dataframe thead th {\n",
       "        text-align: right;\n",
       "    }\n",
       "</style>\n",
       "<table border=\"1\" class=\"dataframe\">\n",
       "  <thead>\n",
       "    <tr style=\"text-align: right;\">\n",
       "      <th></th>\n",
       "      <th>title</th>\n",
       "      <th>description</th>\n",
       "      <th>description_text</th>\n",
       "    </tr>\n",
       "  </thead>\n",
       "  <tbody>\n",
       "    <tr>\n",
       "      <th>0</th>\n",
       "      <td>Ukraine: Angry Zelensky vows to punish Russian...</td>\n",
       "      <td>The Ukrainian president says the country will ...</td>\n",
       "      <td>The Ukrainian president say country forgive fo...</td>\n",
       "    </tr>\n",
       "    <tr>\n",
       "      <th>1</th>\n",
       "      <td>War in Ukraine: Taking cover in a town under a...</td>\n",
       "      <td>Jeremy Bowen was on the frontline in Irpin, as...</td>\n",
       "      <td>Jeremy Bowen frontline Irpin resident came Rus...</td>\n",
       "    </tr>\n",
       "    <tr>\n",
       "      <th>2</th>\n",
       "      <td>Ukraine war 'catastrophic for global food'</td>\n",
       "      <td>One of the world's biggest fertiliser firms sa...</td>\n",
       "      <td>One world biggest fertiliser firm say conflict...</td>\n",
       "    </tr>\n",
       "    <tr>\n",
       "      <th>3</th>\n",
       "      <td>Manchester Arena bombing: Saffie Roussos's par...</td>\n",
       "      <td>The parents of the Manchester Arena bombing's ...</td>\n",
       "      <td>The parent Manchester Arena bombing youngest v...</td>\n",
       "    </tr>\n",
       "    <tr>\n",
       "      <th>4</th>\n",
       "      <td>Ukraine conflict: Oil price soars to highest l...</td>\n",
       "      <td>Consumers are feeling the impact of higher ene...</td>\n",
       "      <td>Consumers feeling impact higher energy cost fu...</td>\n",
       "    </tr>\n",
       "    <tr>\n",
       "      <th>...</th>\n",
       "      <td>...</td>\n",
       "      <td>...</td>\n",
       "      <td>...</td>\n",
       "    </tr>\n",
       "    <tr>\n",
       "      <th>17791</th>\n",
       "      <td>England v Ireland: Stuart Broad says bowlers r...</td>\n",
       "      <td>Stuart Broad says England's attack is ready to...</td>\n",
       "      <td>Stuart Broad say Englands attack ready step As...</td>\n",
       "    </tr>\n",
       "    <tr>\n",
       "      <th>17792</th>\n",
       "      <td>England v Ireland: Stuart Broad, Zak Crawley &amp;...</td>\n",
       "      <td>Watch highlights as Stuart Broad's five-wicket...</td>\n",
       "      <td>Watch highlight Stuart Broads fivewicket haul ...</td>\n",
       "    </tr>\n",
       "    <tr>\n",
       "      <th>17793</th>\n",
       "      <td>Phil Neville: Inter Miami sack coach after 10 ...</td>\n",
       "      <td>Major League Soccer side Inter Miami sack coac...</td>\n",
       "      <td>Major League Soccer side Inter Miami sack coac...</td>\n",
       "    </tr>\n",
       "    <tr>\n",
       "      <th>17794</th>\n",
       "      <td>French Open: Jessica Pegula column on getting ...</td>\n",
       "      <td>American Jessica Pegula, seeded third in the F...</td>\n",
       "      <td>American Jessica Pegula seeded third French Op...</td>\n",
       "    </tr>\n",
       "    <tr>\n",
       "      <th>17795</th>\n",
       "      <td>French Open 2023: Cameron Norrie faces Lorenzo...</td>\n",
       "      <td>Britain's Cameron Norrie says he is not distra...</td>\n",
       "      <td>Britains Cameron Norrie say distracted looming...</td>\n",
       "    </tr>\n",
       "  </tbody>\n",
       "</table>\n",
       "<p>17796 rows × 3 columns</p>\n",
       "</div>"
      ],
      "text/plain": [
       "                                                   title  \\\n",
       "0      Ukraine: Angry Zelensky vows to punish Russian...   \n",
       "1      War in Ukraine: Taking cover in a town under a...   \n",
       "2             Ukraine war 'catastrophic for global food'   \n",
       "3      Manchester Arena bombing: Saffie Roussos's par...   \n",
       "4      Ukraine conflict: Oil price soars to highest l...   \n",
       "...                                                  ...   \n",
       "17791  England v Ireland: Stuart Broad says bowlers r...   \n",
       "17792  England v Ireland: Stuart Broad, Zak Crawley &...   \n",
       "17793  Phil Neville: Inter Miami sack coach after 10 ...   \n",
       "17794  French Open: Jessica Pegula column on getting ...   \n",
       "17795  French Open 2023: Cameron Norrie faces Lorenzo...   \n",
       "\n",
       "                                             description  \\\n",
       "0      The Ukrainian president says the country will ...   \n",
       "1      Jeremy Bowen was on the frontline in Irpin, as...   \n",
       "2      One of the world's biggest fertiliser firms sa...   \n",
       "3      The parents of the Manchester Arena bombing's ...   \n",
       "4      Consumers are feeling the impact of higher ene...   \n",
       "...                                                  ...   \n",
       "17791  Stuart Broad says England's attack is ready to...   \n",
       "17792  Watch highlights as Stuart Broad's five-wicket...   \n",
       "17793  Major League Soccer side Inter Miami sack coac...   \n",
       "17794  American Jessica Pegula, seeded third in the F...   \n",
       "17795  Britain's Cameron Norrie says he is not distra...   \n",
       "\n",
       "                                        description_text  \n",
       "0      The Ukrainian president say country forgive fo...  \n",
       "1      Jeremy Bowen frontline Irpin resident came Rus...  \n",
       "2      One world biggest fertiliser firm say conflict...  \n",
       "3      The parent Manchester Arena bombing youngest v...  \n",
       "4      Consumers feeling impact higher energy cost fu...  \n",
       "...                                                  ...  \n",
       "17791  Stuart Broad say Englands attack ready step As...  \n",
       "17792  Watch highlight Stuart Broads fivewicket haul ...  \n",
       "17793  Major League Soccer side Inter Miami sack coac...  \n",
       "17794  American Jessica Pegula seeded third French Op...  \n",
       "17795  Britains Cameron Norrie say distracted looming...  \n",
       "\n",
       "[17796 rows x 3 columns]"
      ]
     },
     "execution_count": 75,
     "metadata": {},
     "output_type": "execute_result"
    }
   ],
   "source": [
    "#1. Import the data for the LDA algorithm\n",
    "npr_LDF = pd.read_csv(\"Data\\\\bbc_news_post_eda.csv\")\n",
    "npr_LDF.drop(columns='Unnamed: 0', inplace=True)\n",
    "npr_LDF"
   ]
  },
  {
   "cell_type": "code",
   "execution_count": 76,
   "metadata": {},
   "outputs": [
    {
     "data": {
      "text/html": [
       "<style>#sk-container-id-5 {color: black;background-color: white;}#sk-container-id-5 pre{padding: 0;}#sk-container-id-5 div.sk-toggleable {background-color: white;}#sk-container-id-5 label.sk-toggleable__label {cursor: pointer;display: block;width: 100%;margin-bottom: 0;padding: 0.3em;box-sizing: border-box;text-align: center;}#sk-container-id-5 label.sk-toggleable__label-arrow:before {content: \"▸\";float: left;margin-right: 0.25em;color: #696969;}#sk-container-id-5 label.sk-toggleable__label-arrow:hover:before {color: black;}#sk-container-id-5 div.sk-estimator:hover label.sk-toggleable__label-arrow:before {color: black;}#sk-container-id-5 div.sk-toggleable__content {max-height: 0;max-width: 0;overflow: hidden;text-align: left;background-color: #f0f8ff;}#sk-container-id-5 div.sk-toggleable__content pre {margin: 0.2em;color: black;border-radius: 0.25em;background-color: #f0f8ff;}#sk-container-id-5 input.sk-toggleable__control:checked~div.sk-toggleable__content {max-height: 200px;max-width: 100%;overflow: auto;}#sk-container-id-5 input.sk-toggleable__control:checked~label.sk-toggleable__label-arrow:before {content: \"▾\";}#sk-container-id-5 div.sk-estimator input.sk-toggleable__control:checked~label.sk-toggleable__label {background-color: #d4ebff;}#sk-container-id-5 div.sk-label input.sk-toggleable__control:checked~label.sk-toggleable__label {background-color: #d4ebff;}#sk-container-id-5 input.sk-hidden--visually {border: 0;clip: rect(1px 1px 1px 1px);clip: rect(1px, 1px, 1px, 1px);height: 1px;margin: -1px;overflow: hidden;padding: 0;position: absolute;width: 1px;}#sk-container-id-5 div.sk-estimator {font-family: monospace;background-color: #f0f8ff;border: 1px dotted black;border-radius: 0.25em;box-sizing: border-box;margin-bottom: 0.5em;}#sk-container-id-5 div.sk-estimator:hover {background-color: #d4ebff;}#sk-container-id-5 div.sk-parallel-item::after {content: \"\";width: 100%;border-bottom: 1px solid gray;flex-grow: 1;}#sk-container-id-5 div.sk-label:hover label.sk-toggleable__label {background-color: #d4ebff;}#sk-container-id-5 div.sk-serial::before {content: \"\";position: absolute;border-left: 1px solid gray;box-sizing: border-box;top: 0;bottom: 0;left: 50%;z-index: 0;}#sk-container-id-5 div.sk-serial {display: flex;flex-direction: column;align-items: center;background-color: white;padding-right: 0.2em;padding-left: 0.2em;position: relative;}#sk-container-id-5 div.sk-item {position: relative;z-index: 1;}#sk-container-id-5 div.sk-parallel {display: flex;align-items: stretch;justify-content: center;background-color: white;position: relative;}#sk-container-id-5 div.sk-item::before, #sk-container-id-5 div.sk-parallel-item::before {content: \"\";position: absolute;border-left: 1px solid gray;box-sizing: border-box;top: 0;bottom: 0;left: 50%;z-index: -1;}#sk-container-id-5 div.sk-parallel-item {display: flex;flex-direction: column;z-index: 1;position: relative;background-color: white;}#sk-container-id-5 div.sk-parallel-item:first-child::after {align-self: flex-end;width: 50%;}#sk-container-id-5 div.sk-parallel-item:last-child::after {align-self: flex-start;width: 50%;}#sk-container-id-5 div.sk-parallel-item:only-child::after {width: 0;}#sk-container-id-5 div.sk-dashed-wrapped {border: 1px dashed gray;margin: 0 0.4em 0.5em 0.4em;box-sizing: border-box;padding-bottom: 0.4em;background-color: white;}#sk-container-id-5 div.sk-label label {font-family: monospace;font-weight: bold;display: inline-block;line-height: 1.2em;}#sk-container-id-5 div.sk-label-container {text-align: center;}#sk-container-id-5 div.sk-container {/* jupyter's `normalize.less` sets `[hidden] { display: none; }` but bootstrap.min.css set `[hidden] { display: none !important; }` so we also need the `!important` here to be able to override the default hidden behavior on the sphinx rendered scikit-learn.org. See: https://github.com/scikit-learn/scikit-learn/issues/21755 */display: inline-block !important;position: relative;}#sk-container-id-5 div.sk-text-repr-fallback {display: none;}</style><div id=\"sk-container-id-5\" class=\"sk-top-container\"><div class=\"sk-text-repr-fallback\"><pre>CountVectorizer(max_df=0.85, min_df=3, ngram_range=(1, 2), stop_words=&#x27;english&#x27;)</pre><b>In a Jupyter environment, please rerun this cell to show the HTML representation or trust the notebook. <br />On GitHub, the HTML representation is unable to render, please try loading this page with nbviewer.org.</b></div><div class=\"sk-container\" hidden><div class=\"sk-item\"><div class=\"sk-estimator sk-toggleable\"><input class=\"sk-toggleable__control sk-hidden--visually\" id=\"sk-estimator-id-5\" type=\"checkbox\" checked><label for=\"sk-estimator-id-5\" class=\"sk-toggleable__label sk-toggleable__label-arrow\">CountVectorizer</label><div class=\"sk-toggleable__content\"><pre>CountVectorizer(max_df=0.85, min_df=3, ngram_range=(1, 2), stop_words=&#x27;english&#x27;)</pre></div></div></div></div></div>"
      ],
      "text/plain": [
       "CountVectorizer(max_df=0.85, min_df=3, ngram_range=(1, 2), stop_words='english')"
      ]
     },
     "execution_count": 76,
     "metadata": {},
     "output_type": "execute_result"
    }
   ],
   "source": [
    "#2 Perfrom preprocessing on the data (i.e., building the vocab)\n",
    "#Building the settings for the CountVectroizer. \n",
    "from sklearn.feature_extraction.text import CountVectorizer\n",
    "cv_LDF = CountVectorizer(lowercase=True,stop_words='english',ngram_range=(1, 2) ,max_df = 0.85, min_df= 3 )\n",
    "    #lowercase --> This will Convert all characters to lowercase before tokenizing\n",
    "    #stop_words --> This will remove all the commoon words in the english language \n",
    "    #ngram_range --> When it is (1,2) this will consider means unigrams and bigrams\n",
    "    #max_def --> When =0.85, this will tell the model to ignore words that appear in more than 85% of the articles\n",
    "    #min_def --> When =3, this will tell the model to ignore words that appear in less than 3 of the articles\n",
    "\n",
    "cv_LDF\n"
   ]
  },
  {
   "cell_type": "code",
   "execution_count": 78,
   "metadata": {},
   "outputs": [
    {
     "data": {
      "text/plain": [
       "<17796x14541 sparse matrix of type '<class 'numpy.int64'>'\n",
       "\twith 202580 stored elements in Compressed Sparse Row format>"
      ]
     },
     "execution_count": 78,
     "metadata": {},
     "output_type": "execute_result"
    }
   ],
   "source": [
    "#3 Create a Document Term Matrix Using the CountVectroizer's settings \n",
    "dtm_LDF = cv_LDF.fit_transform(npr_LDF['description_text'].values.astype('U'))\n",
    "    #The data must be converted to unicode (i.e., a string in python 3)\n",
    "dtm_LDF"
   ]
  },
  {
   "cell_type": "code",
   "execution_count": 83,
   "metadata": {},
   "outputs": [
    {
     "name": "stdout",
     "output_type": "stream",
     "text": [
      "14541\n"
     ]
    }
   ],
   "source": [
    "#4. Get the vocab of all the words (This step is not essential)\n",
    "#Get the number of words used \n",
    "print (len(cv_LDF.get_feature_names_out()))\n",
    "\n",
    "#There is 14541 words in the Vocab of the DTM "
   ]
  },
  {
   "cell_type": "code",
   "execution_count": 84,
   "metadata": {},
   "outputs": [
    {
     "name": "stdout",
     "output_type": "stream",
     "text": [
      "camilla\n"
     ]
    }
   ],
   "source": [
    "#Example view the 1994 word \n",
    "print (cv_LDF.get_feature_names_out()[1994])"
   ]
  },
  {
   "cell_type": "code",
   "execution_count": 85,
   "metadata": {},
   "outputs": [
    {
     "data": {
      "text/html": [
       "<style>#sk-container-id-6 {color: black;background-color: white;}#sk-container-id-6 pre{padding: 0;}#sk-container-id-6 div.sk-toggleable {background-color: white;}#sk-container-id-6 label.sk-toggleable__label {cursor: pointer;display: block;width: 100%;margin-bottom: 0;padding: 0.3em;box-sizing: border-box;text-align: center;}#sk-container-id-6 label.sk-toggleable__label-arrow:before {content: \"▸\";float: left;margin-right: 0.25em;color: #696969;}#sk-container-id-6 label.sk-toggleable__label-arrow:hover:before {color: black;}#sk-container-id-6 div.sk-estimator:hover label.sk-toggleable__label-arrow:before {color: black;}#sk-container-id-6 div.sk-toggleable__content {max-height: 0;max-width: 0;overflow: hidden;text-align: left;background-color: #f0f8ff;}#sk-container-id-6 div.sk-toggleable__content pre {margin: 0.2em;color: black;border-radius: 0.25em;background-color: #f0f8ff;}#sk-container-id-6 input.sk-toggleable__control:checked~div.sk-toggleable__content {max-height: 200px;max-width: 100%;overflow: auto;}#sk-container-id-6 input.sk-toggleable__control:checked~label.sk-toggleable__label-arrow:before {content: \"▾\";}#sk-container-id-6 div.sk-estimator input.sk-toggleable__control:checked~label.sk-toggleable__label {background-color: #d4ebff;}#sk-container-id-6 div.sk-label input.sk-toggleable__control:checked~label.sk-toggleable__label {background-color: #d4ebff;}#sk-container-id-6 input.sk-hidden--visually {border: 0;clip: rect(1px 1px 1px 1px);clip: rect(1px, 1px, 1px, 1px);height: 1px;margin: -1px;overflow: hidden;padding: 0;position: absolute;width: 1px;}#sk-container-id-6 div.sk-estimator {font-family: monospace;background-color: #f0f8ff;border: 1px dotted black;border-radius: 0.25em;box-sizing: border-box;margin-bottom: 0.5em;}#sk-container-id-6 div.sk-estimator:hover {background-color: #d4ebff;}#sk-container-id-6 div.sk-parallel-item::after {content: \"\";width: 100%;border-bottom: 1px solid gray;flex-grow: 1;}#sk-container-id-6 div.sk-label:hover label.sk-toggleable__label {background-color: #d4ebff;}#sk-container-id-6 div.sk-serial::before {content: \"\";position: absolute;border-left: 1px solid gray;box-sizing: border-box;top: 0;bottom: 0;left: 50%;z-index: 0;}#sk-container-id-6 div.sk-serial {display: flex;flex-direction: column;align-items: center;background-color: white;padding-right: 0.2em;padding-left: 0.2em;position: relative;}#sk-container-id-6 div.sk-item {position: relative;z-index: 1;}#sk-container-id-6 div.sk-parallel {display: flex;align-items: stretch;justify-content: center;background-color: white;position: relative;}#sk-container-id-6 div.sk-item::before, #sk-container-id-6 div.sk-parallel-item::before {content: \"\";position: absolute;border-left: 1px solid gray;box-sizing: border-box;top: 0;bottom: 0;left: 50%;z-index: -1;}#sk-container-id-6 div.sk-parallel-item {display: flex;flex-direction: column;z-index: 1;position: relative;background-color: white;}#sk-container-id-6 div.sk-parallel-item:first-child::after {align-self: flex-end;width: 50%;}#sk-container-id-6 div.sk-parallel-item:last-child::after {align-self: flex-start;width: 50%;}#sk-container-id-6 div.sk-parallel-item:only-child::after {width: 0;}#sk-container-id-6 div.sk-dashed-wrapped {border: 1px dashed gray;margin: 0 0.4em 0.5em 0.4em;box-sizing: border-box;padding-bottom: 0.4em;background-color: white;}#sk-container-id-6 div.sk-label label {font-family: monospace;font-weight: bold;display: inline-block;line-height: 1.2em;}#sk-container-id-6 div.sk-label-container {text-align: center;}#sk-container-id-6 div.sk-container {/* jupyter's `normalize.less` sets `[hidden] { display: none; }` but bootstrap.min.css set `[hidden] { display: none !important; }` so we also need the `!important` here to be able to override the default hidden behavior on the sphinx rendered scikit-learn.org. See: https://github.com/scikit-learn/scikit-learn/issues/21755 */display: inline-block !important;position: relative;}#sk-container-id-6 div.sk-text-repr-fallback {display: none;}</style><div id=\"sk-container-id-6\" class=\"sk-top-container\"><div class=\"sk-text-repr-fallback\"><pre>LatentDirichletAllocation(n_components=5, random_state=101)</pre><b>In a Jupyter environment, please rerun this cell to show the HTML representation or trust the notebook. <br />On GitHub, the HTML representation is unable to render, please try loading this page with nbviewer.org.</b></div><div class=\"sk-container\" hidden><div class=\"sk-item\"><div class=\"sk-estimator sk-toggleable\"><input class=\"sk-toggleable__control sk-hidden--visually\" id=\"sk-estimator-id-6\" type=\"checkbox\" checked><label for=\"sk-estimator-id-6\" class=\"sk-toggleable__label sk-toggleable__label-arrow\">LatentDirichletAllocation</label><div class=\"sk-toggleable__content\"><pre>LatentDirichletAllocation(n_components=5, random_state=101)</pre></div></div></div></div></div>"
      ],
      "text/plain": [
       "LatentDirichletAllocation(n_components=5, random_state=101)"
      ]
     },
     "execution_count": 85,
     "metadata": {},
     "output_type": "execute_result"
    }
   ],
   "source": [
    "#5 Perfrom LDA via Sklearn. Remember you will choose the # of data\n",
    "\n",
    "from sklearn.decomposition import LatentDirichletAllocation \n",
    "LDA = LatentDirichletAllocation(n_components=5, random_state=101) \n",
    "    #n_components --> The K value \n",
    "    #random_state --> The set of documents or order being used\n",
    "\n",
    "#6 Fit the data of the CountVectroizer into the machine learning model \n",
    "LDA.fit(dtm_LDF)"
   ]
  },
  {
   "cell_type": "code",
   "execution_count": 86,
   "metadata": {},
   "outputs": [
    {
     "name": "stdout",
     "output_type": "stream",
     "text": [
      "5\n",
      "(5, 14541)\n"
     ]
    }
   ],
   "source": [
    "#7 Get the number of K values \n",
    "print (len(LDA.components_))\n",
    "\n",
    "#LDA.compoenets_ --> presents each document vs. each word\n",
    "print (LDA.components_.shape)"
   ]
  },
  {
   "cell_type": "code",
   "execution_count": 88,
   "metadata": {},
   "outputs": [],
   "source": [
    "#8 Grab the highest probability words per topic. We must use argsort --> returns the index positions that needed to sort a list. \n",
    "\n",
    "#Get the index positions of the last 15 items, which are the largest\n",
    "list_LDA = []\n",
    "for x in range(LDA.components_.shape[0]):\n",
    "    # print('The words for topic ',x)\n",
    "    for y in LDA.components_[x].argsort()[-15:] :\n",
    "        # print(cv_LDF.get_feature_names_out()[y]) \n",
    "        list_LDA.append(cv_LDF.get_feature_names_out()[y])\n",
    "    # print('\\n')\n",
    "    # print('\\n')"
   ]
  },
  {
   "cell_type": "code",
   "execution_count": 94,
   "metadata": {},
   "outputs": [],
   "source": [
    "#Create a list for each Topic \n",
    "list_LDA_Nested = []\n",
    "for x in range(0, len(list_LDA), 15): \n",
    "    list_LDA_Nested.append(list_LDA[x:x+15])\n"
   ]
  },
  {
   "cell_type": "code",
   "execution_count": 105,
   "metadata": {},
   "outputs": [
    {
     "name": "stdout",
     "output_type": "stream",
     "text": [
      "Topic 0\n",
      "['manchester city', 'champions', 'bbc', 'liverpool', '2022', 'open', 'united', 'final', 'premier league', 'city', 'premier', 'win', 'manchester', 'say', 'league']\n",
      "\n",
      "\n",
      "Topic 1\n",
      "['lead', 'pay', 'bbc', 'energy', 'strike', 'plan', 'new', 'uk', 'paper', 'government', 'home', 'police', 'year', 'people', 'say']\n",
      "\n",
      "\n",
      "Topic 2\n",
      "['final', 'south', 'france', 'past', 'test', 'watch', 'victory', 'wales', 'win', 'day', 'say', 'world cup', 'england', 'cup', 'world']\n",
      "\n",
      "\n",
      "Topic 3\n",
      "['ukrainian', 'social', 'country', 'russia', 'medium', 'president', 'tell', 'woman', 'world', 'new', 'bbc', 'ukraine', 'say', 'year', 'war']\n",
      "\n",
      "\n",
      "Topic 4\n",
      "['new', 'party', 'election', 'living', 'government', 'bbc', 'leader', 'prime minister', 'prime', 'cost', 'people', 'ukraine', 'minister', 'uk', 'say']\n",
      "\n",
      "\n"
     ]
    }
   ],
   "source": [
    "#Topic 0\n",
    "print('Topic 0')\n",
    "print (list_LDA_Nested[0])\n",
    "print('\\n')\n",
    "#Topic 1\n",
    "print('Topic 1')\n",
    "print (list_LDA_Nested[1])\n",
    "print('\\n')\n",
    "#Topic 2\n",
    "print('Topic 2')\n",
    "print (list_LDA_Nested[2])\n",
    "print('\\n')\n",
    "#Topic 3\n",
    "print('Topic 3')\n",
    "print (list_LDA_Nested[3])\n",
    "print('\\n')\n",
    "#Topic 4\n",
    "print('Topic 4')\n",
    "print (list_LDA_Nested[4])\n",
    "print('\\n')\n"
   ]
  },
  {
   "cell_type": "code",
   "execution_count": 103,
   "metadata": {},
   "outputs": [],
   "source": [
    "#Interpreting Each Topic \n",
    "#Topic 0 --> This topic seems to cover local U.K. soccer / European Soccer \n",
    "#Topic 1 --> This topic seems to cover the internal U.K governmental concerns and politics \n",
    "#Topic 2 --> This topic seems to cover international soccer \n",
    "#Topic 3 --> This topic seems to cover the current war in Ukraine \n",
    "#Topic 4 --> This topic seems to cover election and the impact of the Ukrainian war on the U.K. politics "
   ]
  },
  {
   "cell_type": "code",
   "execution_count": 106,
   "metadata": {},
   "outputs": [],
   "source": [
    "#9 Transfrom the DTM Spares Matrix via the Machine Learning model. The transform Step is where you assign topics to the documents \n",
    "\n",
    "results_LDF = LDA.transform(dtm_LDF) "
   ]
  },
  {
   "cell_type": "code",
   "execution_count": 107,
   "metadata": {},
   "outputs": [],
   "source": [
    "#10 Create a new column that represents the topic the article belongs too \n",
    "Results_list_LDF = [] \n",
    "for i,x in enumerate(npr_LDF['description_text']):\n",
    "\n",
    "    Results_list_LDF.append(results_LDF[i].argsort()[-1:][0])\n",
    "        #argsort --> find the index positions \n",
    "\n",
    "# print (Results_list)\n",
    "import numpy as np \n",
    "npr_LDF['Results'] = np.array(Results_list_LDF)"
   ]
  },
  {
   "cell_type": "code",
   "execution_count": 110,
   "metadata": {},
   "outputs": [],
   "source": [
    "#11 Add a title to representing the Result's numerical output \n",
    "def Column_Convert(value):\n",
    "    if value == 0:\n",
    "        return \"U.K & European Soccer\"\n",
    "    elif value == 1:\n",
    "        return \"U.K Governmental Politics\"\n",
    "    elif value == 2:\n",
    "        return \"International Soccer\"\n",
    "    elif value == 3:\n",
    "        return \"Ukranian War\"\n",
    "    elif value == 4:\n",
    "        return \"Impact of Ukranian War on U.K Politics\"\n",
    " \n",
    "npr_LDF['Results_description'] = npr_LDF['Results'].map(Column_Convert)"
   ]
  },
  {
   "cell_type": "code",
   "execution_count": 137,
   "metadata": {},
   "outputs": [
    {
     "data": {
      "text/html": [
       "<div>\n",
       "<style scoped>\n",
       "    .dataframe tbody tr th:only-of-type {\n",
       "        vertical-align: middle;\n",
       "    }\n",
       "\n",
       "    .dataframe tbody tr th {\n",
       "        vertical-align: top;\n",
       "    }\n",
       "\n",
       "    .dataframe thead th {\n",
       "        text-align: right;\n",
       "    }\n",
       "</style>\n",
       "<table border=\"1\" class=\"dataframe\">\n",
       "  <thead>\n",
       "    <tr style=\"text-align: right;\">\n",
       "      <th></th>\n",
       "      <th>title</th>\n",
       "      <th>description</th>\n",
       "      <th>description_text</th>\n",
       "      <th>Results</th>\n",
       "      <th>Results_description</th>\n",
       "    </tr>\n",
       "  </thead>\n",
       "  <tbody>\n",
       "    <tr>\n",
       "      <th>0</th>\n",
       "      <td>Ukraine: Angry Zelensky vows to punish Russian...</td>\n",
       "      <td>The Ukrainian president says the country will ...</td>\n",
       "      <td>The Ukrainian president say country forgive fo...</td>\n",
       "      <td>3</td>\n",
       "      <td>Ukranian War</td>\n",
       "    </tr>\n",
       "    <tr>\n",
       "      <th>1</th>\n",
       "      <td>War in Ukraine: Taking cover in a town under a...</td>\n",
       "      <td>Jeremy Bowen was on the frontline in Irpin, as...</td>\n",
       "      <td>Jeremy Bowen frontline Irpin resident came Rus...</td>\n",
       "      <td>4</td>\n",
       "      <td>Impact of Ukranian War on U.K Politics</td>\n",
       "    </tr>\n",
       "    <tr>\n",
       "      <th>2</th>\n",
       "      <td>Ukraine war 'catastrophic for global food'</td>\n",
       "      <td>One of the world's biggest fertiliser firms sa...</td>\n",
       "      <td>One world biggest fertiliser firm say conflict...</td>\n",
       "      <td>1</td>\n",
       "      <td>U.K Governmental Politics</td>\n",
       "    </tr>\n",
       "    <tr>\n",
       "      <th>3</th>\n",
       "      <td>Manchester Arena bombing: Saffie Roussos's par...</td>\n",
       "      <td>The parents of the Manchester Arena bombing's ...</td>\n",
       "      <td>The parent Manchester Arena bombing youngest v...</td>\n",
       "      <td>4</td>\n",
       "      <td>Impact of Ukranian War on U.K Politics</td>\n",
       "    </tr>\n",
       "    <tr>\n",
       "      <th>4</th>\n",
       "      <td>Ukraine conflict: Oil price soars to highest l...</td>\n",
       "      <td>Consumers are feeling the impact of higher ene...</td>\n",
       "      <td>Consumers feeling impact higher energy cost fu...</td>\n",
       "      <td>1</td>\n",
       "      <td>U.K Governmental Politics</td>\n",
       "    </tr>\n",
       "    <tr>\n",
       "      <th>...</th>\n",
       "      <td>...</td>\n",
       "      <td>...</td>\n",
       "      <td>...</td>\n",
       "      <td>...</td>\n",
       "      <td>...</td>\n",
       "    </tr>\n",
       "    <tr>\n",
       "      <th>17791</th>\n",
       "      <td>England v Ireland: Stuart Broad says bowlers r...</td>\n",
       "      <td>Stuart Broad says England's attack is ready to...</td>\n",
       "      <td>Stuart Broad say Englands attack ready step As...</td>\n",
       "      <td>2</td>\n",
       "      <td>International Soccer</td>\n",
       "    </tr>\n",
       "    <tr>\n",
       "      <th>17792</th>\n",
       "      <td>England v Ireland: Stuart Broad, Zak Crawley &amp;...</td>\n",
       "      <td>Watch highlights as Stuart Broad's five-wicket...</td>\n",
       "      <td>Watch highlight Stuart Broads fivewicket haul ...</td>\n",
       "      <td>2</td>\n",
       "      <td>International Soccer</td>\n",
       "    </tr>\n",
       "    <tr>\n",
       "      <th>17793</th>\n",
       "      <td>Phil Neville: Inter Miami sack coach after 10 ...</td>\n",
       "      <td>Major League Soccer side Inter Miami sack coac...</td>\n",
       "      <td>Major League Soccer side Inter Miami sack coac...</td>\n",
       "      <td>0</td>\n",
       "      <td>U.K &amp; European Soccer</td>\n",
       "    </tr>\n",
       "    <tr>\n",
       "      <th>17794</th>\n",
       "      <td>French Open: Jessica Pegula column on getting ...</td>\n",
       "      <td>American Jessica Pegula, seeded third in the F...</td>\n",
       "      <td>American Jessica Pegula seeded third French Op...</td>\n",
       "      <td>0</td>\n",
       "      <td>U.K &amp; European Soccer</td>\n",
       "    </tr>\n",
       "    <tr>\n",
       "      <th>17795</th>\n",
       "      <td>French Open 2023: Cameron Norrie faces Lorenzo...</td>\n",
       "      <td>Britain's Cameron Norrie says he is not distra...</td>\n",
       "      <td>Britains Cameron Norrie say distracted looming...</td>\n",
       "      <td>0</td>\n",
       "      <td>U.K &amp; European Soccer</td>\n",
       "    </tr>\n",
       "  </tbody>\n",
       "</table>\n",
       "<p>17796 rows × 5 columns</p>\n",
       "</div>"
      ],
      "text/plain": [
       "                                                   title  \\\n",
       "0      Ukraine: Angry Zelensky vows to punish Russian...   \n",
       "1      War in Ukraine: Taking cover in a town under a...   \n",
       "2             Ukraine war 'catastrophic for global food'   \n",
       "3      Manchester Arena bombing: Saffie Roussos's par...   \n",
       "4      Ukraine conflict: Oil price soars to highest l...   \n",
       "...                                                  ...   \n",
       "17791  England v Ireland: Stuart Broad says bowlers r...   \n",
       "17792  England v Ireland: Stuart Broad, Zak Crawley &...   \n",
       "17793  Phil Neville: Inter Miami sack coach after 10 ...   \n",
       "17794  French Open: Jessica Pegula column on getting ...   \n",
       "17795  French Open 2023: Cameron Norrie faces Lorenzo...   \n",
       "\n",
       "                                             description  \\\n",
       "0      The Ukrainian president says the country will ...   \n",
       "1      Jeremy Bowen was on the frontline in Irpin, as...   \n",
       "2      One of the world's biggest fertiliser firms sa...   \n",
       "3      The parents of the Manchester Arena bombing's ...   \n",
       "4      Consumers are feeling the impact of higher ene...   \n",
       "...                                                  ...   \n",
       "17791  Stuart Broad says England's attack is ready to...   \n",
       "17792  Watch highlights as Stuart Broad's five-wicket...   \n",
       "17793  Major League Soccer side Inter Miami sack coac...   \n",
       "17794  American Jessica Pegula, seeded third in the F...   \n",
       "17795  Britain's Cameron Norrie says he is not distra...   \n",
       "\n",
       "                                        description_text  Results  \\\n",
       "0      The Ukrainian president say country forgive fo...        3   \n",
       "1      Jeremy Bowen frontline Irpin resident came Rus...        4   \n",
       "2      One world biggest fertiliser firm say conflict...        1   \n",
       "3      The parent Manchester Arena bombing youngest v...        4   \n",
       "4      Consumers feeling impact higher energy cost fu...        1   \n",
       "...                                                  ...      ...   \n",
       "17791  Stuart Broad say Englands attack ready step As...        2   \n",
       "17792  Watch highlight Stuart Broads fivewicket haul ...        2   \n",
       "17793  Major League Soccer side Inter Miami sack coac...        0   \n",
       "17794  American Jessica Pegula seeded third French Op...        0   \n",
       "17795  Britains Cameron Norrie say distracted looming...        0   \n",
       "\n",
       "                          Results_description  \n",
       "0                                Ukranian War  \n",
       "1      Impact of Ukranian War on U.K Politics  \n",
       "2                   U.K Governmental Politics  \n",
       "3      Impact of Ukranian War on U.K Politics  \n",
       "4                   U.K Governmental Politics  \n",
       "...                                       ...  \n",
       "17791                    International Soccer  \n",
       "17792                    International Soccer  \n",
       "17793                   U.K & European Soccer  \n",
       "17794                   U.K & European Soccer  \n",
       "17795                   U.K & European Soccer  \n",
       "\n",
       "[17796 rows x 5 columns]"
      ]
     },
     "execution_count": 137,
     "metadata": {},
     "output_type": "execute_result"
    }
   ],
   "source": [
    "#The final results\n",
    "npr_LDF"
   ]
  },
  {
   "attachments": {},
   "cell_type": "markdown",
   "metadata": {},
   "source": [
    "#### LDA Analysis Conclusions: \n",
    "- A K of 5 has been applied on the BBC news articles of March 2023 to June 2023 \n",
    "- CountVectroizer was used to create the DTM and Sklearn's LatentDirichletAllocation was used to fit and transform the DTM's data and apply the LDA analysis \n",
    "- This work can help companies with suggesting specific news articles to specific users \n"
   ]
  },
  {
   "cell_type": "markdown",
   "metadata": {},
   "source": [
    "------------------------------------------------"
   ]
  },
  {
   "attachments": {},
   "cell_type": "markdown",
   "metadata": {},
   "source": [
    "## Apply NFM"
   ]
  },
  {
   "cell_type": "code",
   "execution_count": 112,
   "metadata": {},
   "outputs": [
    {
     "data": {
      "text/html": [
       "<div>\n",
       "<style scoped>\n",
       "    .dataframe tbody tr th:only-of-type {\n",
       "        vertical-align: middle;\n",
       "    }\n",
       "\n",
       "    .dataframe tbody tr th {\n",
       "        vertical-align: top;\n",
       "    }\n",
       "\n",
       "    .dataframe thead th {\n",
       "        text-align: right;\n",
       "    }\n",
       "</style>\n",
       "<table border=\"1\" class=\"dataframe\">\n",
       "  <thead>\n",
       "    <tr style=\"text-align: right;\">\n",
       "      <th></th>\n",
       "      <th>title</th>\n",
       "      <th>description</th>\n",
       "      <th>description_text</th>\n",
       "    </tr>\n",
       "  </thead>\n",
       "  <tbody>\n",
       "    <tr>\n",
       "      <th>0</th>\n",
       "      <td>Ukraine: Angry Zelensky vows to punish Russian...</td>\n",
       "      <td>The Ukrainian president says the country will ...</td>\n",
       "      <td>The Ukrainian president say country forgive fo...</td>\n",
       "    </tr>\n",
       "    <tr>\n",
       "      <th>1</th>\n",
       "      <td>War in Ukraine: Taking cover in a town under a...</td>\n",
       "      <td>Jeremy Bowen was on the frontline in Irpin, as...</td>\n",
       "      <td>Jeremy Bowen frontline Irpin resident came Rus...</td>\n",
       "    </tr>\n",
       "    <tr>\n",
       "      <th>2</th>\n",
       "      <td>Ukraine war 'catastrophic for global food'</td>\n",
       "      <td>One of the world's biggest fertiliser firms sa...</td>\n",
       "      <td>One world biggest fertiliser firm say conflict...</td>\n",
       "    </tr>\n",
       "    <tr>\n",
       "      <th>3</th>\n",
       "      <td>Manchester Arena bombing: Saffie Roussos's par...</td>\n",
       "      <td>The parents of the Manchester Arena bombing's ...</td>\n",
       "      <td>The parent Manchester Arena bombing youngest v...</td>\n",
       "    </tr>\n",
       "    <tr>\n",
       "      <th>4</th>\n",
       "      <td>Ukraine conflict: Oil price soars to highest l...</td>\n",
       "      <td>Consumers are feeling the impact of higher ene...</td>\n",
       "      <td>Consumers feeling impact higher energy cost fu...</td>\n",
       "    </tr>\n",
       "    <tr>\n",
       "      <th>...</th>\n",
       "      <td>...</td>\n",
       "      <td>...</td>\n",
       "      <td>...</td>\n",
       "    </tr>\n",
       "    <tr>\n",
       "      <th>17791</th>\n",
       "      <td>England v Ireland: Stuart Broad says bowlers r...</td>\n",
       "      <td>Stuart Broad says England's attack is ready to...</td>\n",
       "      <td>Stuart Broad say Englands attack ready step As...</td>\n",
       "    </tr>\n",
       "    <tr>\n",
       "      <th>17792</th>\n",
       "      <td>England v Ireland: Stuart Broad, Zak Crawley &amp;...</td>\n",
       "      <td>Watch highlights as Stuart Broad's five-wicket...</td>\n",
       "      <td>Watch highlight Stuart Broads fivewicket haul ...</td>\n",
       "    </tr>\n",
       "    <tr>\n",
       "      <th>17793</th>\n",
       "      <td>Phil Neville: Inter Miami sack coach after 10 ...</td>\n",
       "      <td>Major League Soccer side Inter Miami sack coac...</td>\n",
       "      <td>Major League Soccer side Inter Miami sack coac...</td>\n",
       "    </tr>\n",
       "    <tr>\n",
       "      <th>17794</th>\n",
       "      <td>French Open: Jessica Pegula column on getting ...</td>\n",
       "      <td>American Jessica Pegula, seeded third in the F...</td>\n",
       "      <td>American Jessica Pegula seeded third French Op...</td>\n",
       "    </tr>\n",
       "    <tr>\n",
       "      <th>17795</th>\n",
       "      <td>French Open 2023: Cameron Norrie faces Lorenzo...</td>\n",
       "      <td>Britain's Cameron Norrie says he is not distra...</td>\n",
       "      <td>Britains Cameron Norrie say distracted looming...</td>\n",
       "    </tr>\n",
       "  </tbody>\n",
       "</table>\n",
       "<p>17796 rows × 3 columns</p>\n",
       "</div>"
      ],
      "text/plain": [
       "                                                   title  \\\n",
       "0      Ukraine: Angry Zelensky vows to punish Russian...   \n",
       "1      War in Ukraine: Taking cover in a town under a...   \n",
       "2             Ukraine war 'catastrophic for global food'   \n",
       "3      Manchester Arena bombing: Saffie Roussos's par...   \n",
       "4      Ukraine conflict: Oil price soars to highest l...   \n",
       "...                                                  ...   \n",
       "17791  England v Ireland: Stuart Broad says bowlers r...   \n",
       "17792  England v Ireland: Stuart Broad, Zak Crawley &...   \n",
       "17793  Phil Neville: Inter Miami sack coach after 10 ...   \n",
       "17794  French Open: Jessica Pegula column on getting ...   \n",
       "17795  French Open 2023: Cameron Norrie faces Lorenzo...   \n",
       "\n",
       "                                             description  \\\n",
       "0      The Ukrainian president says the country will ...   \n",
       "1      Jeremy Bowen was on the frontline in Irpin, as...   \n",
       "2      One of the world's biggest fertiliser firms sa...   \n",
       "3      The parents of the Manchester Arena bombing's ...   \n",
       "4      Consumers are feeling the impact of higher ene...   \n",
       "...                                                  ...   \n",
       "17791  Stuart Broad says England's attack is ready to...   \n",
       "17792  Watch highlights as Stuart Broad's five-wicket...   \n",
       "17793  Major League Soccer side Inter Miami sack coac...   \n",
       "17794  American Jessica Pegula, seeded third in the F...   \n",
       "17795  Britain's Cameron Norrie says he is not distra...   \n",
       "\n",
       "                                        description_text  \n",
       "0      The Ukrainian president say country forgive fo...  \n",
       "1      Jeremy Bowen frontline Irpin resident came Rus...  \n",
       "2      One world biggest fertiliser firm say conflict...  \n",
       "3      The parent Manchester Arena bombing youngest v...  \n",
       "4      Consumers feeling impact higher energy cost fu...  \n",
       "...                                                  ...  \n",
       "17791  Stuart Broad say Englands attack ready step As...  \n",
       "17792  Watch highlight Stuart Broads fivewicket haul ...  \n",
       "17793  Major League Soccer side Inter Miami sack coac...  \n",
       "17794  American Jessica Pegula seeded third French Op...  \n",
       "17795  Britains Cameron Norrie say distracted looming...  \n",
       "\n",
       "[17796 rows x 3 columns]"
      ]
     },
     "execution_count": 112,
     "metadata": {},
     "output_type": "execute_result"
    }
   ],
   "source": [
    "#1. Import the data for the NFM algorithm\n",
    "npr_NMF = pd.read_csv(\"Data\\\\bbc_news_post_eda.csv\")\n",
    "npr_NMF.drop(columns='Unnamed: 0', inplace=True)\n",
    "npr_NMF"
   ]
  },
  {
   "cell_type": "code",
   "execution_count": 115,
   "metadata": {},
   "outputs": [],
   "source": [
    "#2. Prep the text preprocessing via TF-IDF to build a vocabulary\n",
    "from sklearn.feature_extraction.text import TfidfVectorizer\n",
    "tfidf_NMF = TfidfVectorizer(lowercase=True,stop_words='english',ngram_range=(1, 2) ,max_df = 0.85, min_df= 3)\n",
    "    #lowercase --> This will Convert all characters to lowercase before tokenizing\n",
    "    #stop_words --> This will remove all the commoon words in the english language \n",
    "    #ngram_range --> When it is (1,2) this will consider means unigrams and bigrams\n",
    "    #max_def --> When =0.85, this will tell the model to ignore words that appear in more than 85% of the articles\n",
    "    #min_def --> When =3, this will tell the model to ignore words that appear in less than 3 of the articles"
   ]
  },
  {
   "cell_type": "code",
   "execution_count": 116,
   "metadata": {},
   "outputs": [
    {
     "data": {
      "text/plain": [
       "<17796x14541 sparse matrix of type '<class 'numpy.float64'>'\n",
       "\twith 202580 stored elements in Compressed Sparse Row format>"
      ]
     },
     "execution_count": 116,
     "metadata": {},
     "output_type": "execute_result"
    }
   ],
   "source": [
    "#3 Create a Document Term Matrix Using the CountVectroizer's settings \n",
    "dtm_NMF = tfidf_NMF.fit_transform(npr_LDF['description_text'].values.astype('U'))\n",
    "    #The data must be converted to unicode (i.e., a string in python 3)\n",
    "dtm_NMF"
   ]
  },
  {
   "cell_type": "code",
   "execution_count": 117,
   "metadata": {},
   "outputs": [
    {
     "name": "stdout",
     "output_type": "stream",
     "text": [
      "14541\n"
     ]
    }
   ],
   "source": [
    "#4. Get the vocab of all the words \n",
    "#Get the number of words used \n",
    "print (len(tfidf_NMF.get_feature_names_out()))\n"
   ]
  },
  {
   "cell_type": "code",
   "execution_count": 118,
   "metadata": {},
   "outputs": [
    {
     "name": "stdout",
     "output_type": "stream",
     "text": [
      "camilla\n"
     ]
    }
   ],
   "source": [
    "#get the 1994 word \n",
    "print (tfidf_NMF.get_feature_names_out()[1994])"
   ]
  },
  {
   "cell_type": "code",
   "execution_count": 120,
   "metadata": {},
   "outputs": [
    {
     "data": {
      "text/html": [
       "<style>#sk-container-id-7 {color: black;background-color: white;}#sk-container-id-7 pre{padding: 0;}#sk-container-id-7 div.sk-toggleable {background-color: white;}#sk-container-id-7 label.sk-toggleable__label {cursor: pointer;display: block;width: 100%;margin-bottom: 0;padding: 0.3em;box-sizing: border-box;text-align: center;}#sk-container-id-7 label.sk-toggleable__label-arrow:before {content: \"▸\";float: left;margin-right: 0.25em;color: #696969;}#sk-container-id-7 label.sk-toggleable__label-arrow:hover:before {color: black;}#sk-container-id-7 div.sk-estimator:hover label.sk-toggleable__label-arrow:before {color: black;}#sk-container-id-7 div.sk-toggleable__content {max-height: 0;max-width: 0;overflow: hidden;text-align: left;background-color: #f0f8ff;}#sk-container-id-7 div.sk-toggleable__content pre {margin: 0.2em;color: black;border-radius: 0.25em;background-color: #f0f8ff;}#sk-container-id-7 input.sk-toggleable__control:checked~div.sk-toggleable__content {max-height: 200px;max-width: 100%;overflow: auto;}#sk-container-id-7 input.sk-toggleable__control:checked~label.sk-toggleable__label-arrow:before {content: \"▾\";}#sk-container-id-7 div.sk-estimator input.sk-toggleable__control:checked~label.sk-toggleable__label {background-color: #d4ebff;}#sk-container-id-7 div.sk-label input.sk-toggleable__control:checked~label.sk-toggleable__label {background-color: #d4ebff;}#sk-container-id-7 input.sk-hidden--visually {border: 0;clip: rect(1px 1px 1px 1px);clip: rect(1px, 1px, 1px, 1px);height: 1px;margin: -1px;overflow: hidden;padding: 0;position: absolute;width: 1px;}#sk-container-id-7 div.sk-estimator {font-family: monospace;background-color: #f0f8ff;border: 1px dotted black;border-radius: 0.25em;box-sizing: border-box;margin-bottom: 0.5em;}#sk-container-id-7 div.sk-estimator:hover {background-color: #d4ebff;}#sk-container-id-7 div.sk-parallel-item::after {content: \"\";width: 100%;border-bottom: 1px solid gray;flex-grow: 1;}#sk-container-id-7 div.sk-label:hover label.sk-toggleable__label {background-color: #d4ebff;}#sk-container-id-7 div.sk-serial::before {content: \"\";position: absolute;border-left: 1px solid gray;box-sizing: border-box;top: 0;bottom: 0;left: 50%;z-index: 0;}#sk-container-id-7 div.sk-serial {display: flex;flex-direction: column;align-items: center;background-color: white;padding-right: 0.2em;padding-left: 0.2em;position: relative;}#sk-container-id-7 div.sk-item {position: relative;z-index: 1;}#sk-container-id-7 div.sk-parallel {display: flex;align-items: stretch;justify-content: center;background-color: white;position: relative;}#sk-container-id-7 div.sk-item::before, #sk-container-id-7 div.sk-parallel-item::before {content: \"\";position: absolute;border-left: 1px solid gray;box-sizing: border-box;top: 0;bottom: 0;left: 50%;z-index: -1;}#sk-container-id-7 div.sk-parallel-item {display: flex;flex-direction: column;z-index: 1;position: relative;background-color: white;}#sk-container-id-7 div.sk-parallel-item:first-child::after {align-self: flex-end;width: 50%;}#sk-container-id-7 div.sk-parallel-item:last-child::after {align-self: flex-start;width: 50%;}#sk-container-id-7 div.sk-parallel-item:only-child::after {width: 0;}#sk-container-id-7 div.sk-dashed-wrapped {border: 1px dashed gray;margin: 0 0.4em 0.5em 0.4em;box-sizing: border-box;padding-bottom: 0.4em;background-color: white;}#sk-container-id-7 div.sk-label label {font-family: monospace;font-weight: bold;display: inline-block;line-height: 1.2em;}#sk-container-id-7 div.sk-label-container {text-align: center;}#sk-container-id-7 div.sk-container {/* jupyter's `normalize.less` sets `[hidden] { display: none; }` but bootstrap.min.css set `[hidden] { display: none !important; }` so we also need the `!important` here to be able to override the default hidden behavior on the sphinx rendered scikit-learn.org. See: https://github.com/scikit-learn/scikit-learn/issues/21755 */display: inline-block !important;position: relative;}#sk-container-id-7 div.sk-text-repr-fallback {display: none;}</style><div id=\"sk-container-id-7\" class=\"sk-top-container\"><div class=\"sk-text-repr-fallback\"><pre>NMF(n_components=5, random_state=101)</pre><b>In a Jupyter environment, please rerun this cell to show the HTML representation or trust the notebook. <br />On GitHub, the HTML representation is unable to render, please try loading this page with nbviewer.org.</b></div><div class=\"sk-container\" hidden><div class=\"sk-item\"><div class=\"sk-estimator sk-toggleable\"><input class=\"sk-toggleable__control sk-hidden--visually\" id=\"sk-estimator-id-7\" type=\"checkbox\" checked><label for=\"sk-estimator-id-7\" class=\"sk-toggleable__label sk-toggleable__label-arrow\">NMF</label><div class=\"sk-toggleable__content\"><pre>NMF(n_components=5, random_state=101)</pre></div></div></div></div></div>"
      ],
      "text/plain": [
       "NMF(n_components=5, random_state=101)"
      ]
     },
     "execution_count": 120,
     "metadata": {},
     "output_type": "execute_result"
    }
   ],
   "source": [
    "#5 Perfrom LDA via Sklearn. Remember you will choose the # of data\n",
    "\n",
    "from sklearn.decomposition import NMF\n",
    "NMF_ML = NMF(n_components=5, random_state=101) \n",
    "    #n_components --> The K value \n",
    "    #random_state --> The set of documents or order being used\n",
    "\n",
    "#6 Fit the data of the CountVectroizer into the machine learning model \n",
    "NMF_ML.fit(dtm_NMF)"
   ]
  },
  {
   "cell_type": "code",
   "execution_count": 121,
   "metadata": {},
   "outputs": [
    {
     "name": "stdout",
     "output_type": "stream",
     "text": [
      "5\n",
      "(5, 14541)\n"
     ]
    }
   ],
   "source": [
    "#7 Get the number of K values \n",
    "print (len(NMF_ML.components_))\n",
    "\n",
    "# Present each document vs. each word\n",
    "print (NMF_ML.components_.shape)"
   ]
  },
  {
   "cell_type": "code",
   "execution_count": 123,
   "metadata": {},
   "outputs": [],
   "source": [
    "#8 Grab the highest probability words per topic. We must use argsort --> returns the index positions that needed to sort a list. \n",
    "\n",
    "#Get the index positions of the last 15 items, which are the largest\n",
    "list_NFM = []\n",
    "for x in range(NMF_ML.components_.shape[0]):\n",
    "    # print('The words for topic ',x)\n",
    "    for y in NMF_ML.components_[x].argsort()[-15:] :\n",
    "        # print(cv_LDF.get_feature_names_out()[y]) \n",
    "        list_NFM.append(tfidf_NMF.get_feature_names_out()[y])\n",
    "    # print('\\n')\n",
    "    # print('\\n')\n"
   ]
  },
  {
   "cell_type": "code",
   "execution_count": 125,
   "metadata": {},
   "outputs": [],
   "source": [
    "#Create a list for each Topic \n",
    "list_NFM_Nested = []\n",
    "for x in range(0, len(list_NFM), 15): \n",
    "    list_NFM_Nested.append(list_NFM[x:x+15])\n"
   ]
  },
  {
   "cell_type": "code",
   "execution_count": 126,
   "metadata": {},
   "outputs": [
    {
     "name": "stdout",
     "output_type": "stream",
     "text": [
      "Topic 0\n",
      "['victory', 'englands', 'semifinal', 'bbc', '2022', 'france', 'win', 'watch', 'wales', 'qatar', 'final', 'england', 'world cup', 'cup', 'world']\n",
      "\n",
      "\n",
      "Topic 1\n",
      "['going', 'whats', 'paying', 'attention', 'closely', 'going past', 'whats going', 'attention whats', 'closely paying', 'paying attention', 'day', 'past', 'seven', 'past seven', 'seven day']\n",
      "\n",
      "\n",
      "Topic 2\n",
      "['law', 'scotlands', 'advice', 'avoid', 'clash', 'include', 'flu', 'gender', 'family', 'protest', 'award', 'aim', 'documentary', 'glory', 'nan']\n",
      "\n",
      "\n",
      "Topic 3\n",
      "['russia', 'war', 'president', 'home', 'russian', 'minister', 'bbc', 'government', 'police', 'new', 'year', 'uk', 'ukraine', 'people', 'say']\n",
      "\n",
      "\n",
      "Topic 4\n",
      "['title', 'season', 'goal', 'liverpool', 'win', 'manchester united', 'champions league', 'champions', 'united', 'manchester city', 'city', 'premier league', 'premier', 'manchester', 'league']\n",
      "\n",
      "\n"
     ]
    }
   ],
   "source": [
    "#Topic 0\n",
    "print('Topic 0')\n",
    "print (list_NFM_Nested[0])\n",
    "print('\\n')\n",
    "#Topic 1\n",
    "print('Topic 1')\n",
    "print (list_NFM_Nested[1])\n",
    "print('\\n')\n",
    "#Topic 2\n",
    "print('Topic 2')\n",
    "print (list_NFM_Nested[2])\n",
    "print('\\n')\n",
    "#Topic 3\n",
    "print('Topic 3')\n",
    "print (list_NFM_Nested[3])\n",
    "print('\\n')\n",
    "#Topic 4\n",
    "print('Topic 4')\n",
    "print (list_NFM_Nested[4])\n",
    "print('\\n')\n"
   ]
  },
  {
   "cell_type": "code",
   "execution_count": 127,
   "metadata": {},
   "outputs": [],
   "source": [
    "#Interpreting Each Topic \n",
    "#Topic 0 --> This topic seems to cover international soccer\n",
    "#Topic 1 --> This topic seems to be repeating many words which could be an indicator that the selected K value is too large \n",
    "#Topic 2 --> This topic seems to cover internal news of the U.K & elections \n",
    "#Topic 3 --> This topic seems to cover the current war in Ukraine \n",
    "#Topic 4 --> This topic seems to cover U.K and european soccer"
   ]
  },
  {
   "cell_type": "code",
   "execution_count": 128,
   "metadata": {},
   "outputs": [],
   "source": [
    "#9 Transfrom the DTM Spares Matrix via the Machine Learning model\n",
    "\n",
    "results_NFM = NMF_ML.transform(dtm_NMF) "
   ]
  },
  {
   "cell_type": "code",
   "execution_count": 130,
   "metadata": {},
   "outputs": [],
   "source": [
    "#10 Create a new column that represents the topic the article belongs too \n",
    "Results_list_NFM = [] \n",
    "for i,x in enumerate(npr_NMF['description_text']):\n",
    "\n",
    "    Results_list_NFM.append(results_NFM[i].argsort()[-1:][0])\n",
    "        #argsort --> find the index positions \n",
    "\n",
    "import numpy as np \n",
    "npr_NMF['Results'] = np.array(Results_list_NFM)"
   ]
  },
  {
   "cell_type": "code",
   "execution_count": 135,
   "metadata": {},
   "outputs": [],
   "source": [
    "#11 Add a title to representing the Result's numerical output \n",
    "def Column_Convert(value):\n",
    "    if value == 0:\n",
    "        return \"International Soccer\"    \n",
    "    elif value == 1:\n",
    "        return \"Many Words are Repeated\"\n",
    "    elif value == 2:\n",
    "        return \"U.K Governmental Politics\"\n",
    "    elif value == 3:\n",
    "        return \"Ukranian War & its Impact\"\n",
    "    elif value == 4:\n",
    "        return \"U.K & European Soccer\"\n",
    "\n",
    " \n",
    "npr_NMF['Results_description'] = npr_NMF['Results'].map(Column_Convert)"
   ]
  },
  {
   "cell_type": "code",
   "execution_count": 136,
   "metadata": {},
   "outputs": [
    {
     "data": {
      "text/html": [
       "<div>\n",
       "<style scoped>\n",
       "    .dataframe tbody tr th:only-of-type {\n",
       "        vertical-align: middle;\n",
       "    }\n",
       "\n",
       "    .dataframe tbody tr th {\n",
       "        vertical-align: top;\n",
       "    }\n",
       "\n",
       "    .dataframe thead th {\n",
       "        text-align: right;\n",
       "    }\n",
       "</style>\n",
       "<table border=\"1\" class=\"dataframe\">\n",
       "  <thead>\n",
       "    <tr style=\"text-align: right;\">\n",
       "      <th></th>\n",
       "      <th>title</th>\n",
       "      <th>description</th>\n",
       "      <th>description_text</th>\n",
       "      <th>Results</th>\n",
       "      <th>Results_description</th>\n",
       "    </tr>\n",
       "  </thead>\n",
       "  <tbody>\n",
       "    <tr>\n",
       "      <th>0</th>\n",
       "      <td>Ukraine: Angry Zelensky vows to punish Russian...</td>\n",
       "      <td>The Ukrainian president says the country will ...</td>\n",
       "      <td>The Ukrainian president say country forgive fo...</td>\n",
       "      <td>3</td>\n",
       "      <td>Ukranian War &amp; its Impact</td>\n",
       "    </tr>\n",
       "    <tr>\n",
       "      <th>1</th>\n",
       "      <td>War in Ukraine: Taking cover in a town under a...</td>\n",
       "      <td>Jeremy Bowen was on the frontline in Irpin, as...</td>\n",
       "      <td>Jeremy Bowen frontline Irpin resident came Rus...</td>\n",
       "      <td>3</td>\n",
       "      <td>Ukranian War &amp; its Impact</td>\n",
       "    </tr>\n",
       "    <tr>\n",
       "      <th>2</th>\n",
       "      <td>Ukraine war 'catastrophic for global food'</td>\n",
       "      <td>One of the world's biggest fertiliser firms sa...</td>\n",
       "      <td>One world biggest fertiliser firm say conflict...</td>\n",
       "      <td>3</td>\n",
       "      <td>Ukranian War &amp; its Impact</td>\n",
       "    </tr>\n",
       "    <tr>\n",
       "      <th>3</th>\n",
       "      <td>Manchester Arena bombing: Saffie Roussos's par...</td>\n",
       "      <td>The parents of the Manchester Arena bombing's ...</td>\n",
       "      <td>The parent Manchester Arena bombing youngest v...</td>\n",
       "      <td>4</td>\n",
       "      <td>U.K &amp; European Soccer</td>\n",
       "    </tr>\n",
       "    <tr>\n",
       "      <th>4</th>\n",
       "      <td>Ukraine conflict: Oil price soars to highest l...</td>\n",
       "      <td>Consumers are feeling the impact of higher ene...</td>\n",
       "      <td>Consumers feeling impact higher energy cost fu...</td>\n",
       "      <td>3</td>\n",
       "      <td>Ukranian War &amp; its Impact</td>\n",
       "    </tr>\n",
       "    <tr>\n",
       "      <th>...</th>\n",
       "      <td>...</td>\n",
       "      <td>...</td>\n",
       "      <td>...</td>\n",
       "      <td>...</td>\n",
       "      <td>...</td>\n",
       "    </tr>\n",
       "    <tr>\n",
       "      <th>17791</th>\n",
       "      <td>England v Ireland: Stuart Broad says bowlers r...</td>\n",
       "      <td>Stuart Broad says England's attack is ready to...</td>\n",
       "      <td>Stuart Broad say Englands attack ready step As...</td>\n",
       "      <td>3</td>\n",
       "      <td>Ukranian War &amp; its Impact</td>\n",
       "    </tr>\n",
       "    <tr>\n",
       "      <th>17792</th>\n",
       "      <td>England v Ireland: Stuart Broad, Zak Crawley &amp;...</td>\n",
       "      <td>Watch highlights as Stuart Broad's five-wicket...</td>\n",
       "      <td>Watch highlight Stuart Broads fivewicket haul ...</td>\n",
       "      <td>0</td>\n",
       "      <td>International Soccer</td>\n",
       "    </tr>\n",
       "    <tr>\n",
       "      <th>17793</th>\n",
       "      <td>Phil Neville: Inter Miami sack coach after 10 ...</td>\n",
       "      <td>Major League Soccer side Inter Miami sack coac...</td>\n",
       "      <td>Major League Soccer side Inter Miami sack coac...</td>\n",
       "      <td>4</td>\n",
       "      <td>U.K &amp; European Soccer</td>\n",
       "    </tr>\n",
       "    <tr>\n",
       "      <th>17794</th>\n",
       "      <td>French Open: Jessica Pegula column on getting ...</td>\n",
       "      <td>American Jessica Pegula, seeded third in the F...</td>\n",
       "      <td>American Jessica Pegula seeded third French Op...</td>\n",
       "      <td>3</td>\n",
       "      <td>Ukranian War &amp; its Impact</td>\n",
       "    </tr>\n",
       "    <tr>\n",
       "      <th>17795</th>\n",
       "      <td>French Open 2023: Cameron Norrie faces Lorenzo...</td>\n",
       "      <td>Britain's Cameron Norrie says he is not distra...</td>\n",
       "      <td>Britains Cameron Norrie say distracted looming...</td>\n",
       "      <td>3</td>\n",
       "      <td>Ukranian War &amp; its Impact</td>\n",
       "    </tr>\n",
       "  </tbody>\n",
       "</table>\n",
       "<p>17796 rows × 5 columns</p>\n",
       "</div>"
      ],
      "text/plain": [
       "                                                   title  \\\n",
       "0      Ukraine: Angry Zelensky vows to punish Russian...   \n",
       "1      War in Ukraine: Taking cover in a town under a...   \n",
       "2             Ukraine war 'catastrophic for global food'   \n",
       "3      Manchester Arena bombing: Saffie Roussos's par...   \n",
       "4      Ukraine conflict: Oil price soars to highest l...   \n",
       "...                                                  ...   \n",
       "17791  England v Ireland: Stuart Broad says bowlers r...   \n",
       "17792  England v Ireland: Stuart Broad, Zak Crawley &...   \n",
       "17793  Phil Neville: Inter Miami sack coach after 10 ...   \n",
       "17794  French Open: Jessica Pegula column on getting ...   \n",
       "17795  French Open 2023: Cameron Norrie faces Lorenzo...   \n",
       "\n",
       "                                             description  \\\n",
       "0      The Ukrainian president says the country will ...   \n",
       "1      Jeremy Bowen was on the frontline in Irpin, as...   \n",
       "2      One of the world's biggest fertiliser firms sa...   \n",
       "3      The parents of the Manchester Arena bombing's ...   \n",
       "4      Consumers are feeling the impact of higher ene...   \n",
       "...                                                  ...   \n",
       "17791  Stuart Broad says England's attack is ready to...   \n",
       "17792  Watch highlights as Stuart Broad's five-wicket...   \n",
       "17793  Major League Soccer side Inter Miami sack coac...   \n",
       "17794  American Jessica Pegula, seeded third in the F...   \n",
       "17795  Britain's Cameron Norrie says he is not distra...   \n",
       "\n",
       "                                        description_text  Results  \\\n",
       "0      The Ukrainian president say country forgive fo...        3   \n",
       "1      Jeremy Bowen frontline Irpin resident came Rus...        3   \n",
       "2      One world biggest fertiliser firm say conflict...        3   \n",
       "3      The parent Manchester Arena bombing youngest v...        4   \n",
       "4      Consumers feeling impact higher energy cost fu...        3   \n",
       "...                                                  ...      ...   \n",
       "17791  Stuart Broad say Englands attack ready step As...        3   \n",
       "17792  Watch highlight Stuart Broads fivewicket haul ...        0   \n",
       "17793  Major League Soccer side Inter Miami sack coac...        4   \n",
       "17794  American Jessica Pegula seeded third French Op...        3   \n",
       "17795  Britains Cameron Norrie say distracted looming...        3   \n",
       "\n",
       "             Results_description  \n",
       "0      Ukranian War & its Impact  \n",
       "1      Ukranian War & its Impact  \n",
       "2      Ukranian War & its Impact  \n",
       "3          U.K & European Soccer  \n",
       "4      Ukranian War & its Impact  \n",
       "...                          ...  \n",
       "17791  Ukranian War & its Impact  \n",
       "17792       International Soccer  \n",
       "17793      U.K & European Soccer  \n",
       "17794  Ukranian War & its Impact  \n",
       "17795  Ukranian War & its Impact  \n",
       "\n",
       "[17796 rows x 5 columns]"
      ]
     },
     "execution_count": 136,
     "metadata": {},
     "output_type": "execute_result"
    }
   ],
   "source": [
    "npr_NMF"
   ]
  },
  {
   "attachments": {},
   "cell_type": "markdown",
   "metadata": {},
   "source": [
    "#### NFM Analysis Conclusions: \n",
    "- A K of 5 has been applied on the BBC news articles of March 2023 to June 2023 \n",
    "- TfidfVectorizer was used to create the DTM and Sklearn's NMF was used to fit and transform the DTM's data and apply the NFM analysis \n",
    "- This work can help companies with suggesting specific news articles to specific users \n"
   ]
  },
  {
   "attachments": {},
   "cell_type": "markdown",
   "metadata": {},
   "source": [
    "--------------------------"
   ]
  },
  {
   "attachments": {},
   "cell_type": "markdown",
   "metadata": {},
   "source": [
    "## Works Conclusion \n",
    "- LDA and NFM were applied on BBC news articles of March 2023 to June 2023 \n",
    "- A K of 5 was selected for both Topic Modeling algorithms \n",
    "- NFM seemed to have an issue with one of the topics by have various repeated words which could be an indicator for selecting a too large of a K value \n",
    "- Topics of both algorithms covered: European Soccer, International Soccer, Internal Politics of the U.K, and The Ukrainian War. All of which are topics that are very relevant during this work \n",
    "- A future improvement to the work is to conduct Coherence Analysis of various K values then selecting the value that produced the highest K\n"
   ]
  }
 ],
 "metadata": {
  "kernelspec": {
   "display_name": "Python 3",
   "language": "python",
   "name": "python3"
  },
  "language_info": {
   "codemirror_mode": {
    "name": "ipython",
    "version": 3
   },
   "file_extension": ".py",
   "mimetype": "text/x-python",
   "name": "python",
   "nbconvert_exporter": "python",
   "pygments_lexer": "ipython3",
   "version": "3.10.6"
  },
  "orig_nbformat": 4
 },
 "nbformat": 4,
 "nbformat_minor": 2
}
